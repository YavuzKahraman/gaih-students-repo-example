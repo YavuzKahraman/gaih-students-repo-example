{
  "nbformat": 4,
  "nbformat_minor": 0,
  "metadata": {
    "kernelspec": {
      "display_name": "Python 3",
      "language": "python",
      "name": "python3"
    },
    "language_info": {
      "codemirror_mode": {
        "name": "ipython",
        "version": 3
      },
      "file_extension": ".py",
      "mimetype": "text/x-python",
      "name": "python",
      "nbconvert_exporter": "python",
      "pygments_lexer": "ipython3",
      "version": "3.7.3"
    },
    "colab": {
      "name": "DataPrep.ipynb",
      "provenance": [],
      "include_colab_link": true
    }
  },
  "cells": [
    {
      "cell_type": "markdown",
      "metadata": {
        "id": "view-in-github",
        "colab_type": "text"
      },
      "source": [
        "<a href=\"https://colab.research.google.com/github/YavuzKahraman/gaih-students-repo-example/blob/main/DataPrep.ipynb\" target=\"_parent\"><img src=\"https://colab.research.google.com/assets/colab-badge.svg\" alt=\"Open In Colab\"/></a>"
      ]
    },
    {
      "cell_type": "markdown",
      "metadata": {
        "id": "1hL71rls9LFL"
      },
      "source": [
        "<a href=\"https://colab.research.google.com/github/globalaihub/introduction-to-machine-learning/blob/main/Data%20Prep/DataPrep.ipynb\">\n",
        "  <img src=\"https://colab.research.google.com/assets/colab-badge.svg\" alt=\"Open In Colab\"/>\n",
        "</a>"
      ]
    },
    {
      "cell_type": "markdown",
      "metadata": {
        "id": "nDfEDKy29LFS"
      },
      "source": [
        "                                    All rights reserved © Global AI Hub 2020 \n",
        "![](https://github.com/globalaihub/introduction-to-machine-learning/blob/main/Data%20Prep/img/logo.png?raw=1)\n"
      ]
    },
    {
      "cell_type": "markdown",
      "metadata": {
        "id": "-AJDxnd59LFT"
      },
      "source": [
        "# Building ML Project"
      ]
    },
    {
      "cell_type": "markdown",
      "metadata": {
        "id": "05cCuitZ9LFT"
      },
      "source": [
        "![](https://github.com/globalaihub/introduction-to-machine-learning/blob/main/Data%20Prep/img/flow.png?raw=1)"
      ]
    },
    {
      "cell_type": "markdown",
      "metadata": {
        "id": "gMsEyEPi9LFU"
      },
      "source": [
        "## Steps of Project\n",
        "\n",
        "- Gathering Data\n",
        "- Preparing the Data\n",
        "- Choosing Models\n",
        "- Training\n",
        "- Evaluation\n",
        "- Hyperparameter Tuning\n",
        "- Prediction\n",
        "- Model Selection"
      ]
    },
    {
      "cell_type": "markdown",
      "metadata": {
        "id": "BP2RedL_9LFU"
      },
      "source": [
        "## 1) Gathering Data"
      ]
    },
    {
      "cell_type": "markdown",
      "metadata": {
        "id": "Ex9s4YUe9LFU"
      },
      "source": [
        "After the problem definition, we need to obtain data which will be appropriate for our case.  The quality and quantity of data that you gather will directly determine how good our predictive model can be."
      ]
    },
    {
      "cell_type": "markdown",
      "metadata": {
        "id": "KTVLhAZp9LFV"
      },
      "source": [
        "## 2) Preparing the Data"
      ]
    },
    {
      "cell_type": "markdown",
      "metadata": {
        "id": "-xDVqDMw9LFV"
      },
      "source": [
        "Data preparation, where we load our data into a suitable place and prepare it for use in our machine learning training. This is also a good time to do any pertinent visualizations of your data, to help you see if there are any relevant relationships between different variables you can take advantage of, as well as show you if there are any data imbalances."
      ]
    },
    {
      "cell_type": "markdown",
      "metadata": {
        "id": "Z5OTC6659LFV"
      },
      "source": [
        "### Exploratory Data Analysis (EDA)"
      ]
    },
    {
      "cell_type": "markdown",
      "metadata": {
        "id": "gnoY3tcF9LFW"
      },
      "source": [
        "Exploratory Data Analysis refers to the critical process of performing initial investigations on data so as to discover patterns,to spot anomalies,to test hypothesis and to check assumptions with the help of summary statistics and graphical representations."
      ]
    },
    {
      "cell_type": "markdown",
      "metadata": {
        "id": "ujiJ5M4h9LFW"
      },
      "source": [
        "![](https://github.com/globalaihub/introduction-to-machine-learning/blob/main/Data%20Prep/img/wordcloud.jpg?raw=1)"
      ]
    },
    {
      "cell_type": "markdown",
      "metadata": {
        "id": "g3Fghgvu9LFW"
      },
      "source": [
        "![](https://github.com/globalaihub/introduction-to-machine-learning/blob/main/Data%20Prep/img/hist2.png?raw=1)"
      ]
    },
    {
      "cell_type": "markdown",
      "metadata": {
        "id": "5G0ikgTW9LFW"
      },
      "source": [
        "![](https://github.com/globalaihub/introduction-to-machine-learning/blob/main/Data%20Prep/img/bar2.png?raw=1)"
      ]
    },
    {
      "cell_type": "markdown",
      "metadata": {
        "id": "zNujfJJ19LFX"
      },
      "source": [
        "### Pre-Processing"
      ]
    },
    {
      "cell_type": "markdown",
      "metadata": {
        "id": "K8ed0P7-9LFX"
      },
      "source": [
        "#### Duplicate Values\n",
        "In most cases, the duplicates are removed so as to not give that particular data object an advantage or bias, when running machine learning algorithms."
      ]
    },
    {
      "cell_type": "markdown",
      "metadata": {
        "id": "xa5mTLqW9LFX"
      },
      "source": [
        "#### Imbalanced Data\n",
        "An Imbalanced dataset is one where the number of instances of a class(es) are significantly higher than another class(es), thus leading to an imbalance and creating rarer class(es)."
      ]
    },
    {
      "cell_type": "markdown",
      "metadata": {
        "id": "3P8254Jg9LFX"
      },
      "source": [
        "![](https://github.com/globalaihub/introduction-to-machine-learning/blob/main/Data%20Prep/img/imbalance.png?raw=1)"
      ]
    },
    {
      "cell_type": "markdown",
      "metadata": {
        "id": "A78wh9da9LFX"
      },
      "source": [
        "#### Missing Values\n",
        "\n",
        "- Eleminate missing values\n",
        "- Filling with mean or median\n",
        "\n",
        "`df.isnull().sum() `  \n",
        "`df.dropna()`"
      ]
    },
    {
      "cell_type": "markdown",
      "metadata": {
        "id": "-LYOBsz79LFY"
      },
      "source": [
        "![](https://github.com/globalaihub/introduction-to-machine-learning/blob/main/Data%20Prep/img/skew.jpg?raw=1)"
      ]
    },
    {
      "cell_type": "markdown",
      "metadata": {
        "id": "RBL_Lqi19LFY"
      },
      "source": [
        "#### Outlier Detection\n",
        "\n",
        "- Standart Deviation\n",
        "- Box Plots / IQR Calculation\n",
        "- Isolation Forest\n",
        "\n",
        "\n",
        "`from sklearn.ensemble import IsolationForest`"
      ]
    },
    {
      "cell_type": "markdown",
      "metadata": {
        "id": "-P1my_P29LFY"
      },
      "source": [
        "![](https://github.com/globalaihub/introduction-to-machine-learning/blob/main/Data%20Prep/img/stddev.png?raw=1)"
      ]
    },
    {
      "cell_type": "markdown",
      "metadata": {
        "id": "Dd2AVCbJ9LFZ"
      },
      "source": [
        "![](https://github.com/globalaihub/introduction-to-machine-learning/blob/main/Data%20Prep/img/IQR.png?raw=1)"
      ]
    },
    {
      "cell_type": "markdown",
      "metadata": {
        "id": "n2KhNoLO9LFZ"
      },
      "source": [
        "#### Feature Scaling\n",
        "\n",
        "- Standardization  \n",
        "$$  X_{new} = \\frac{X-\\mu}{\\sigma} $$  \n",
        "- Normalization  \n",
        "$$X_{new} = \\frac{X-X_{min}}{X_{max} - X_{min}} $$ \n"
      ]
    },
    {
      "cell_type": "markdown",
      "metadata": {
        "id": "q5c5h4kT9LFZ"
      },
      "source": [
        "![](https://github.com/globalaihub/introduction-to-machine-learning/blob/main/Data%20Prep/img/stndr.png?raw=1)"
      ]
    },
    {
      "cell_type": "markdown",
      "metadata": {
        "id": "V7ZUaF0Z9LFZ"
      },
      "source": [
        "![](https://github.com/globalaihub/introduction-to-machine-learning/blob/main/Data%20Prep/img/norm.png?raw=1)"
      ]
    },
    {
      "cell_type": "markdown",
      "metadata": {
        "id": "XTyTKFp79LFZ"
      },
      "source": [
        "#### Bucketing (Binning)\n",
        "\n",
        "Data binning, bucketing is a data pre-processing method used to minimize the effects of small observation errors (noisy data). The original data values are divided into small intervals known as bins and then they are replaced by a general value calculated for that bin.  \n",
        "\n",
        "![](https://github.com/globalaihub/introduction-to-machine-learning/blob/main/Data%20Prep/img/binning.png?raw=1)"
      ]
    },
    {
      "cell_type": "markdown",
      "metadata": {
        "id": "MFOI6zYF9LFa"
      },
      "source": [
        "#### Feature Extraction\n",
        "- Principle Components Analysis (PCA)\n",
        "- Independent Component Analysis (ICA)\n",
        "- Linear Discriminant Analysis (LDA)\n",
        "- t-distributed Stochastic Neighbor Embedding (t-SNE)\n",
        "\n",
        "Example:  \n",
        "$$Profit = Revenue - Cost$$"
      ]
    },
    {
      "cell_type": "markdown",
      "metadata": {
        "id": "DvK04Nku9LFa"
      },
      "source": [
        "#### Feature Encoding\n",
        "Feature encoding is basically performing transformations on the data such that it can be easily accepted as input for machine learning algorithms while still retaining its original meaning.\n",
        "\n",
        "- **Nominal** : Any one-to-one mapping can be done which retains the meaning. For instance, a permutation of values like in One-Hot Encoding.\n",
        "- **Ordinal** : An order-preserving change of values. The notion of small, medium and large can be represented equally well with the help of a new function. For example, we can encode this S, M and L sizes into {0, 1, 2} or maybe {1, 2, 3}."
      ]
    },
    {
      "cell_type": "markdown",
      "metadata": {
        "id": "kKA7H_dE9LFa"
      },
      "source": [
        "![](https://github.com/globalaihub/introduction-to-machine-learning/blob/main/Data%20Prep/img/encode.png?raw=1)"
      ]
    },
    {
      "cell_type": "markdown",
      "metadata": {
        "id": "zgYE74fS9LFa"
      },
      "source": [
        "#### Train / Validation / Test Split"
      ]
    },
    {
      "cell_type": "markdown",
      "metadata": {
        "id": "EQEPZm1g9LFa"
      },
      "source": [
        "But before we start deciding the algorithm which should be used, it is always advised to split the dataset into 2 or sometimes 3 parts. Machine Learning algorithms, or any algorithm for that matter, has to be first trained on the data distribution available and then validated and tested, before it can be deployed to deal with real-world data.  \n",
        "\n",
        "- 60 / 20 / 20\n",
        "- 70 / 30\n",
        "\n",
        "`from sklearn.model_selection import train_test_split`"
      ]
    },
    {
      "cell_type": "markdown",
      "metadata": {
        "id": "eA8MSxDv9LFb"
      },
      "source": [
        "![](https://github.com/globalaihub/introduction-to-machine-learning/blob/main/Data%20Prep/img/split.png?raw=1)"
      ]
    },
    {
      "cell_type": "markdown",
      "metadata": {
        "id": "blDHce0y9LFb"
      },
      "source": [
        "---\n",
        "#### Cross Validation\n",
        "\n",
        "\n"
      ]
    },
    {
      "cell_type": "markdown",
      "metadata": {
        "id": "P85ozugz9LFb"
      },
      "source": [
        "![](https://github.com/globalaihub/introduction-to-machine-learning/blob/main/Data%20Prep/img/cross_valid.png?raw=1)\n",
        "`from sklearn.model_selection import cross_validate`\n",
        "\n",
        "https://scikit-learn.org/stable/modules/cross_validation.html"
      ]
    },
    {
      "cell_type": "markdown",
      "metadata": {
        "id": "vzlB1c8w9LFb"
      },
      "source": [
        "## Resources\n",
        "\n",
        "https://towardsdatascience.com/introduction-to-data-preprocessing-in-machine-learning-a9fa83a5dc9d  \n",
        "https://developers.google.com/machine-learning/data-prep  \n",
        "https://towardsdatascience.com/5-ways-to-detect-outliers-that-every-data-scientist-should-know-python-code-70a54335a623\n",
        "https://machinelearningmastery.com/feature-selection-with-real-and-categorical-data/  \n",
        "https://towardsdatascience.com/scale-standardize-or-normalize-with-scikit-learn-6ccc7d176a02  \n",
        "https://towardsdatascience.com/the-5-feature-selection-algorithms-every-data-scientist-need-to-know-3a6b566efd2  \n"
      ]
    }
  ]
}