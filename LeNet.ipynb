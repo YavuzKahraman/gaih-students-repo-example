{
  "nbformat": 4,
  "nbformat_minor": 0,
  "metadata": {
    "colab": {
      "name": "LeNet.ipynb",
      "provenance": [],
      "authorship_tag": "ABX9TyOgCW0BGBEbUjduUMHpB+CE",
      "include_colab_link": true
    },
    "kernelspec": {
      "name": "python3",
      "display_name": "Python 3"
    },
    "language_info": {
      "name": "python"
    },
    "accelerator": "GPU"
  },
  "cells": [
    {
      "cell_type": "markdown",
      "metadata": {
        "id": "view-in-github",
        "colab_type": "text"
      },
      "source": [
        "<a href=\"https://colab.research.google.com/github/YavuzKahraman/gaih-students-repo-example/blob/main/LeNet.ipynb\" target=\"_parent\"><img src=\"https://colab.research.google.com/assets/colab-badge.svg\" alt=\"Open In Colab\"/></a>"
      ]
    },
    {
      "cell_type": "code",
      "metadata": {
        "id": "GJLdRIvb7EiN"
      },
      "source": [
        "# importing packages\n",
        "import matplotlib.pyplot as plt\n",
        "import tensorflow as tf\n",
        "import numpy as np"
      ],
      "execution_count": 1,
      "outputs": []
    },
    {
      "cell_type": "code",
      "metadata": {
        "colab": {
          "base_uri": "https://localhost:8080/"
        },
        "id": "14_G80mZ7nuX",
        "outputId": "c9eefb8d-b8fc-48a3-f4da-f845879251fb"
      },
      "source": [
        "mnist = tf.keras.datasets.mnist\n",
        "(x_train, y_train), (x_test, y_test)=mnist.load_data()"
      ],
      "execution_count": 2,
      "outputs": [
        {
          "output_type": "stream",
          "text": [
            "Downloading data from https://storage.googleapis.com/tensorflow/tf-keras-datasets/mnist.npz\n",
            "11493376/11490434 [==============================] - 0s 0us/step\n"
          ],
          "name": "stdout"
        }
      ]
    },
    {
      "cell_type": "code",
      "metadata": {
        "colab": {
          "base_uri": "https://localhost:8080/"
        },
        "id": "N31V25w-9cyg",
        "outputId": "4a3c6362-d5c9-435c-fdb6-dfb52cd14264"
      },
      "source": [
        "x_train.shape\n"
      ],
      "execution_count": 3,
      "outputs": [
        {
          "output_type": "execute_result",
          "data": {
            "text/plain": [
              "(60000, 28, 28)"
            ]
          },
          "metadata": {
            "tags": []
          },
          "execution_count": 3
        }
      ]
    },
    {
      "cell_type": "code",
      "metadata": {
        "id": "4YH_aC7378Jk"
      },
      "source": [
        "rows, cols = 28, 28"
      ],
      "execution_count": 4,
      "outputs": []
    },
    {
      "cell_type": "code",
      "metadata": {
        "id": "bE65m07-8Dcc"
      },
      "source": [
        "x_train = x_train.reshape(x_train.shape[0], rows, cols, 1)\n",
        "x_test = x_test.reshape(x_test.shape[0], rows, cols, 1)"
      ],
      "execution_count": 5,
      "outputs": []
    },
    {
      "cell_type": "code",
      "metadata": {
        "id": "qCuMqAZM8qqo"
      },
      "source": [
        "# normalizing data\n",
        "x_train=x_train.astype(\"float32\")\n",
        "x_train = x_train / 255.0\n",
        "x_test=x_test.astype(\"float32\")\n",
        "x_test = x_test / 255.0\n",
        "\n",
        "# one hot encode the labels\n",
        "y_train = tf.keras.utils.to_categorical(y_train,10)\n",
        "y_test = tf.keras.utils.to_categorical(y_test,10)"
      ],
      "execution_count": 6,
      "outputs": []
    },
    {
      "cell_type": "code",
      "metadata": {
        "id": "3sniD1Em8Y0E"
      },
      "source": [
        "input_shape = (rows, cols, 1)\n"
      ],
      "execution_count": 7,
      "outputs": []
    },
    {
      "cell_type": "code",
      "metadata": {
        "id": "wjFZsiVq9-50"
      },
      "source": [
        "def build_lenet(input_shape):\n",
        "  model=tf.keras.Sequential()\n",
        "  model.add(tf.keras.layers.Conv2D(filters=6, kernel_size=(5,5),strides=(1,1),activation='tanh', input_shape=input_shape))\n",
        "  model.add(tf.keras.layers.AveragePooling2D(pool_size=(2,2),strides=(2,2)))\n",
        "  model.add(tf.keras.layers.Conv2D(filters=16, kernel_size=(5,5),strides=(1,1),activation='tanh'))\n",
        "  model.add(tf.keras.layers.AveragePooling2D(pool_size=(2,2),strides=(2,2)))\n",
        "  model.add(tf.keras.layers.Flatten())\n",
        "  model.add(tf.keras.layers.Dense(units=120, activation='tanh'))\n",
        "  model.add(tf.keras.layers.Flatten())\n",
        "  model.add(tf.keras.layers.Dense(units=84, activation='tanh'))\n",
        "  model.add(tf.keras.layers.Dense(units=10, activation='softmax'))\n",
        "\n",
        "  model.compile(loss='categorical_crossentropy', optimizer = tf.keras.optimizers.SGD(learning_rate=0.1,momentum=0.0,decay=0.0), metrics=['accuracy'])\n",
        "  return model "
      ],
      "execution_count": 8,
      "outputs": []
    },
    {
      "cell_type": "code",
      "metadata": {
        "colab": {
          "base_uri": "https://localhost:8080/"
        },
        "id": "HVcCTpWl-l5A",
        "outputId": "cd147ce1-c1d2-40f9-acff-b0f9574b9d83"
      },
      "source": [
        "lenet = build_lenet(input_shape)\n",
        "epochs=10\n",
        "history=lenet.fit(x_train,y_train,epochs=epochs, batch_size=128, verbose=1)"
      ],
      "execution_count": 9,
      "outputs": [
        {
          "output_type": "stream",
          "text": [
            "Epoch 1/10\n",
            "469/469 [==============================] - 32s 3ms/step - loss: 0.7309 - accuracy: 0.7915\n",
            "Epoch 2/10\n",
            "469/469 [==============================] - 1s 3ms/step - loss: 0.1902 - accuracy: 0.9435\n",
            "Epoch 3/10\n",
            "469/469 [==============================] - 1s 3ms/step - loss: 0.1254 - accuracy: 0.9623\n",
            "Epoch 4/10\n",
            "469/469 [==============================] - 1s 3ms/step - loss: 0.0945 - accuracy: 0.9713\n",
            "Epoch 5/10\n",
            "469/469 [==============================] - 1s 3ms/step - loss: 0.0732 - accuracy: 0.9782\n",
            "Epoch 6/10\n",
            "469/469 [==============================] - 1s 3ms/step - loss: 0.0602 - accuracy: 0.9823\n",
            "Epoch 7/10\n",
            "469/469 [==============================] - 1s 3ms/step - loss: 0.0555 - accuracy: 0.9834\n",
            "Epoch 8/10\n",
            "469/469 [==============================] - 1s 3ms/step - loss: 0.0487 - accuracy: 0.9847\n",
            "Epoch 9/10\n",
            "469/469 [==============================] - 1s 3ms/step - loss: 0.0427 - accuracy: 0.9872\n",
            "Epoch 10/10\n",
            "469/469 [==============================] - 1s 3ms/step - loss: 0.0380 - accuracy: 0.9886\n"
          ],
          "name": "stdout"
        }
      ]
    },
    {
      "cell_type": "code",
      "metadata": {
        "colab": {
          "base_uri": "https://localhost:8080/"
        },
        "id": "JZHIdJUfDfvm",
        "outputId": "9a0a93be-c273-4a7e-a024-549bd8be05d3"
      },
      "source": [
        "loss, acc = lenet.evaluate(x_test,y_test)\n",
        "print(\"accuracy:\", acc)"
      ],
      "execution_count": 10,
      "outputs": [
        {
          "output_type": "stream",
          "text": [
            "313/313 [==============================] - 1s 2ms/step - loss: 0.0435 - accuracy: 0.9852\n",
            "accuracy: 0.9851999878883362\n"
          ],
          "name": "stdout"
        }
      ]
    },
    {
      "cell_type": "code",
      "metadata": {
        "colab": {
          "base_uri": "https://localhost:8080/"
        },
        "id": "1WvWHp4lEPzq",
        "outputId": "f4132227-b9da-40c7-ffcf-e998e26be2fe"
      },
      "source": [
        "x_train = x_train.reshape(x_train.shape[0], 28,28)\n",
        "print(\"Training Data\", x_train.shape, y_train.shape)"
      ],
      "execution_count": 11,
      "outputs": [
        {
          "output_type": "stream",
          "text": [
            "Training Data (60000, 28, 28) (60000, 10)\n"
          ],
          "name": "stdout"
        }
      ]
    },
    {
      "cell_type": "code",
      "metadata": {
        "colab": {
          "base_uri": "https://localhost:8080/"
        },
        "id": "2PGiaFfWFGYf",
        "outputId": "c46b6692-1911-424c-ac5b-2b38179bab01"
      },
      "source": [
        "x_test=x_test.reshape(x_test.shape[0], 28,28)\n",
        "print(\"test data\", x_test.shape,y_test.shape)"
      ],
      "execution_count": 12,
      "outputs": [
        {
          "output_type": "stream",
          "text": [
            "test data (10000, 28, 28) (10000, 10)\n"
          ],
          "name": "stdout"
        }
      ]
    },
    {
      "cell_type": "code",
      "metadata": {
        "colab": {
          "base_uri": "https://localhost:8080/",
          "height": 282
        },
        "id": "YGfk3KKfFZX9",
        "outputId": "c2ed2736-eb30-4bc0-9ce4-c7422440d86c"
      },
      "source": [
        "# example image\n",
        "img_index = 2\n",
        "plt.imshow(x_test[img_index].reshape(28,28))\n",
        "\n",
        "pred=lenet.predict(x_test[img_index].reshape(1, rows, cols,1))\n",
        "print(pred.argmax())"
      ],
      "execution_count": 16,
      "outputs": [
        {
          "output_type": "stream",
          "text": [
            "1\n"
          ],
          "name": "stdout"
        },
        {
          "output_type": "display_data",
          "data": {
            "image/png": "[encoded data removed]",
            "text/plain": [
              "<Figure size 432x288 with 1 Axes>"
            ]
          },
          "metadata": {
            "tags": [],
            "needs_background": "light"
          }
        }
      ]
    },
    {
      "cell_type": "code",
      "metadata": {
        "id": "Z6ie7S1VGQsN"
      },
      "source": [
        ""
      ],
      "execution_count": null,
      "outputs": []
    }
  ]
}